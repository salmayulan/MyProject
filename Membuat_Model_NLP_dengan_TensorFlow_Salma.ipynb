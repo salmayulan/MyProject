{
  "nbformat": 4,
  "nbformat_minor": 0,
  "metadata": {
    "colab": {
      "provenance": []
    },
    "kernelspec": {
      "name": "python3",
      "display_name": "Python 3"
    },
    "language_info": {
      "name": "python"
    }
  },
  "cells": [
    {
      "cell_type": "code",
      "metadata": {
        "colab": {
          "base_uri": "https://localhost:8080/",
          "height": 206
        },
        "id": "l10uzQK3n7qc",
        "outputId": "e4c2e678-a5a7-47c4-9aed-9ad3ce5b58a9"
      },
      "source": [
        "import pandas as pd\n",
        "\n",
        "df = pd.read_csv('netflix_titles.csv')\n",
        "#df = df.drop(columns=['UserName', 'ScreenName', 'Location', 'TweetAt'])\n",
        "df = df.drop(columns=['show_id','country', 'title','director', 'cast', 'date_added', 'release_year','duration', 'rating'])\n",
        "df.head()"
      ],
      "execution_count": null,
      "outputs": [
        {
          "output_type": "execute_result",
          "data": {
            "text/html": [
              "<div>\n",
              "<style scoped>\n",
              "    .dataframe tbody tr th:only-of-type {\n",
              "        vertical-align: middle;\n",
              "    }\n",
              "\n",
              "    .dataframe tbody tr th {\n",
              "        vertical-align: top;\n",
              "    }\n",
              "\n",
              "    .dataframe thead th {\n",
              "        text-align: right;\n",
              "    }\n",
              "</style>\n",
              "<table border=\"1\" class=\"dataframe\">\n",
              "  <thead>\n",
              "    <tr style=\"text-align: right;\">\n",
              "      <th></th>\n",
              "      <th>type</th>\n",
              "      <th>listed_in</th>\n",
              "      <th>description</th>\n",
              "    </tr>\n",
              "  </thead>\n",
              "  <tbody>\n",
              "    <tr>\n",
              "      <th>0</th>\n",
              "      <td>TV Show</td>\n",
              "      <td>International TV Shows, TV Dramas, TV Sci-Fi &amp;...</td>\n",
              "      <td>In a future where the elite inhabit an island ...</td>\n",
              "    </tr>\n",
              "    <tr>\n",
              "      <th>1</th>\n",
              "      <td>Movie</td>\n",
              "      <td>Dramas, International Movies</td>\n",
              "      <td>After a devastating earthquake hits Mexico Cit...</td>\n",
              "    </tr>\n",
              "    <tr>\n",
              "      <th>2</th>\n",
              "      <td>Movie</td>\n",
              "      <td>Horror Movies, International Movies</td>\n",
              "      <td>When an army recruit is found dead, his fellow...</td>\n",
              "    </tr>\n",
              "    <tr>\n",
              "      <th>3</th>\n",
              "      <td>Movie</td>\n",
              "      <td>Action &amp; Adventure, Independent Movies, Sci-Fi...</td>\n",
              "      <td>In a postapocalyptic world, rag-doll robots hi...</td>\n",
              "    </tr>\n",
              "    <tr>\n",
              "      <th>4</th>\n",
              "      <td>Movie</td>\n",
              "      <td>Dramas</td>\n",
              "      <td>A brilliant group of students become card-coun...</td>\n",
              "    </tr>\n",
              "  </tbody>\n",
              "</table>\n",
              "</div>"
            ],
            "text/plain": [
              "      type  ...                                        description\n",
              "0  TV Show  ...  In a future where the elite inhabit an island ...\n",
              "1    Movie  ...  After a devastating earthquake hits Mexico Cit...\n",
              "2    Movie  ...  When an army recruit is found dead, his fellow...\n",
              "3    Movie  ...  In a postapocalyptic world, rag-doll robots hi...\n",
              "4    Movie  ...  A brilliant group of students become card-coun...\n",
              "\n",
              "[5 rows x 3 columns]"
            ]
          },
          "metadata": {
            "tags": []
          },
          "execution_count": 1
        }
      ]
    },
    {
      "cell_type": "code",
      "metadata": {
        "colab": {
          "base_uri": "https://localhost:8080/"
        },
        "id": "loFbUypeuHcp",
        "outputId": "0b90e05a-d3b6-452e-cb0d-508101f47360"
      },
      "source": [
        "import nltk, os, re, string\n",
        "\n",
        "from keras.layers import Input, LSTM, Bidirectional, SpatialDropout1D, Dropout, Flatten, Dense, Embedding, BatchNormalization\n",
        "from keras.models import Model\n",
        "from keras.callbacks import EarlyStopping\n",
        "from keras.preprocessing.text import Tokenizer, text_to_word_sequence\n",
        "from keras.preprocessing.sequence import pad_sequences\n",
        "#from keras.utils import to_binary\n",
        "\n",
        "from nltk.corpus import stopwords\n",
        "from nltk.stem import WordNetLemmatizer\n",
        "from nltk.corpus import wordnet as wn\n",
        "\n",
        "nltk.download('wordnet')\n",
        "nltk.download('stopwords')"
      ],
      "execution_count": null,
      "outputs": [
        {
          "output_type": "stream",
          "text": [
            "[nltk_data] Downloading package wordnet to /root/nltk_data...\n",
            "[nltk_data]   Package wordnet is already up-to-date!\n",
            "[nltk_data] Downloading package stopwords to /root/nltk_data...\n",
            "[nltk_data]   Package stopwords is already up-to-date!\n"
          ],
          "name": "stdout"
        },
        {
          "output_type": "execute_result",
          "data": {
            "text/plain": [
              "True"
            ]
          },
          "metadata": {
            "tags": []
          },
          "execution_count": 2
        }
      ]
    },
    {
      "cell_type": "code",
      "metadata": {
        "id": "mp3x7NAIuOWp"
      },
      "source": [
        "# lower-case all characters\n",
        "df.type = df.type.apply(lambda x: x.lower())\n",
        "df.listed_in = df.listed_in.apply(lambda x: x.lower())\n",
        "df.description = df.description.apply(lambda x: x.lower())\n",
        "\n",
        "# removing functuation\n",
        "def cleaner(data):\n",
        "    return(data.translate(str.maketrans('','', string.punctuation)))\n",
        "    df.type = df.type.apply(lambda x: cleaner(x))\n",
        "    df.listed_in = df.listed_in.apply(lambda x: lem(x))\n",
        "    df.description = df.description.apply(lambda x: lem(x))\n",
        "\n",
        "## lematization\n",
        "lemmatizer = WordNetLemmatizer()\n",
        "\n",
        "def lem(data):\n",
        "    pos_dict = {'N': wn.NOUN, 'V': wn.VERB, 'J': wn.ADJ, 'R': wn.ADV}\n",
        "    return(' '.join([lemmatizer.lemmatize(w,pos_dict.get(t, wn.NOUN)) for w,t in nltk.pos_tag(data.split())]))\n",
        "    df.type = df.type.apply(lambda x: lem(x))\n",
        "    df.listed_in = df.listed_in.apply(lambda x: lem(x))\n",
        "    df.description = df.description.apply(lambda x: lem(x))\n",
        "\n",
        "\n",
        "# removing number\n",
        "def rem_numbers(data):\n",
        "    return re.sub('[0-9]+','',data)\n",
        "    df['type'].apply(rem_numbers)\n",
        "    df['listed_in'].apply(rem_numbers)\n",
        "    df['description'].apply(rem_numbers)\n",
        "\n",
        "# removing stopword\n",
        "st_words = stopwords.words()\n",
        "def stopword(data):\n",
        "    return(' '.join([w for w in data.split() if w not in st_words ]))\n",
        "    df.type = df.OriginalTweet.apply(lambda x: stopword(x))\n",
        "    df.listed_in = df.listed_in.apply(lambda x: lem(x))\n",
        "    df.description = df.description.apply(lambda x: lem(x))"
      ],
      "execution_count": null,
      "outputs": []
    },
    {
      "cell_type": "code",
      "metadata": {
        "colab": {
          "base_uri": "https://localhost:8080/",
          "height": 206
        },
        "id": "OjmrsqcBud1D",
        "outputId": "1a414804-558a-4442-cc42-c60f549074dc"
      },
      "source": [
        "df.head()"
      ],
      "execution_count": null,
      "outputs": [
        {
          "output_type": "execute_result",
          "data": {
            "text/html": [
              "<div>\n",
              "<style scoped>\n",
              "    .dataframe tbody tr th:only-of-type {\n",
              "        vertical-align: middle;\n",
              "    }\n",
              "\n",
              "    .dataframe tbody tr th {\n",
              "        vertical-align: top;\n",
              "    }\n",
              "\n",
              "    .dataframe thead th {\n",
              "        text-align: right;\n",
              "    }\n",
              "</style>\n",
              "<table border=\"1\" class=\"dataframe\">\n",
              "  <thead>\n",
              "    <tr style=\"text-align: right;\">\n",
              "      <th></th>\n",
              "      <th>type</th>\n",
              "      <th>listed_in</th>\n",
              "      <th>description</th>\n",
              "    </tr>\n",
              "  </thead>\n",
              "  <tbody>\n",
              "    <tr>\n",
              "      <th>0</th>\n",
              "      <td>tv show</td>\n",
              "      <td>international tv shows, tv dramas, tv sci-fi &amp;...</td>\n",
              "      <td>in a future where the elite inhabit an island ...</td>\n",
              "    </tr>\n",
              "    <tr>\n",
              "      <th>1</th>\n",
              "      <td>movie</td>\n",
              "      <td>dramas, international movies</td>\n",
              "      <td>after a devastating earthquake hits mexico cit...</td>\n",
              "    </tr>\n",
              "    <tr>\n",
              "      <th>2</th>\n",
              "      <td>movie</td>\n",
              "      <td>horror movies, international movies</td>\n",
              "      <td>when an army recruit is found dead, his fellow...</td>\n",
              "    </tr>\n",
              "    <tr>\n",
              "      <th>3</th>\n",
              "      <td>movie</td>\n",
              "      <td>action &amp; adventure, independent movies, sci-fi...</td>\n",
              "      <td>in a postapocalyptic world, rag-doll robots hi...</td>\n",
              "    </tr>\n",
              "    <tr>\n",
              "      <th>4</th>\n",
              "      <td>movie</td>\n",
              "      <td>dramas</td>\n",
              "      <td>a brilliant group of students become card-coun...</td>\n",
              "    </tr>\n",
              "  </tbody>\n",
              "</table>\n",
              "</div>"
            ],
            "text/plain": [
              "      type  ...                                        description\n",
              "0  tv show  ...  in a future where the elite inhabit an island ...\n",
              "1    movie  ...  after a devastating earthquake hits mexico cit...\n",
              "2    movie  ...  when an army recruit is found dead, his fellow...\n",
              "3    movie  ...  in a postapocalyptic world, rag-doll robots hi...\n",
              "4    movie  ...  a brilliant group of students become card-coun...\n",
              "\n",
              "[5 rows x 3 columns]"
            ]
          },
          "metadata": {
            "tags": []
          },
          "execution_count": 4
        }
      ]
    },
    {
      "cell_type": "code",
      "metadata": {
        "colab": {
          "base_uri": "https://localhost:8080/",
          "height": 423
        },
        "id": "GLAoXjMNoCpv",
        "outputId": "9a53a4dd-73d4-45a8-ba7e-09125aef470a"
      },
      "source": [
        "category = pd.get_dummies(df.type)\n",
        "df_baru = pd.concat([df, category], axis=1)\n",
        "df_baru = df_baru.drop(columns='type')\n",
        "df_baru"
      ],
      "execution_count": null,
      "outputs": [
        {
          "output_type": "execute_result",
          "data": {
            "text/html": [
              "<div>\n",
              "<style scoped>\n",
              "    .dataframe tbody tr th:only-of-type {\n",
              "        vertical-align: middle;\n",
              "    }\n",
              "\n",
              "    .dataframe tbody tr th {\n",
              "        vertical-align: top;\n",
              "    }\n",
              "\n",
              "    .dataframe thead th {\n",
              "        text-align: right;\n",
              "    }\n",
              "</style>\n",
              "<table border=\"1\" class=\"dataframe\">\n",
              "  <thead>\n",
              "    <tr style=\"text-align: right;\">\n",
              "      <th></th>\n",
              "      <th>listed_in</th>\n",
              "      <th>description</th>\n",
              "      <th>movie</th>\n",
              "      <th>tv show</th>\n",
              "    </tr>\n",
              "  </thead>\n",
              "  <tbody>\n",
              "    <tr>\n",
              "      <th>0</th>\n",
              "      <td>international tv shows, tv dramas, tv sci-fi &amp;...</td>\n",
              "      <td>in a future where the elite inhabit an island ...</td>\n",
              "      <td>0</td>\n",
              "      <td>1</td>\n",
              "    </tr>\n",
              "    <tr>\n",
              "      <th>1</th>\n",
              "      <td>dramas, international movies</td>\n",
              "      <td>after a devastating earthquake hits mexico cit...</td>\n",
              "      <td>1</td>\n",
              "      <td>0</td>\n",
              "    </tr>\n",
              "    <tr>\n",
              "      <th>2</th>\n",
              "      <td>horror movies, international movies</td>\n",
              "      <td>when an army recruit is found dead, his fellow...</td>\n",
              "      <td>1</td>\n",
              "      <td>0</td>\n",
              "    </tr>\n",
              "    <tr>\n",
              "      <th>3</th>\n",
              "      <td>action &amp; adventure, independent movies, sci-fi...</td>\n",
              "      <td>in a postapocalyptic world, rag-doll robots hi...</td>\n",
              "      <td>1</td>\n",
              "      <td>0</td>\n",
              "    </tr>\n",
              "    <tr>\n",
              "      <th>4</th>\n",
              "      <td>dramas</td>\n",
              "      <td>a brilliant group of students become card-coun...</td>\n",
              "      <td>1</td>\n",
              "      <td>0</td>\n",
              "    </tr>\n",
              "    <tr>\n",
              "      <th>...</th>\n",
              "      <td>...</td>\n",
              "      <td>...</td>\n",
              "      <td>...</td>\n",
              "      <td>...</td>\n",
              "    </tr>\n",
              "    <tr>\n",
              "      <th>7782</th>\n",
              "      <td>dramas, international movies</td>\n",
              "      <td>when lebanon's civil war deprives zozo of his ...</td>\n",
              "      <td>1</td>\n",
              "      <td>0</td>\n",
              "    </tr>\n",
              "    <tr>\n",
              "      <th>7783</th>\n",
              "      <td>dramas, international movies, music &amp; musicals</td>\n",
              "      <td>a scrappy but poor boy worms his way into a ty...</td>\n",
              "      <td>1</td>\n",
              "      <td>0</td>\n",
              "    </tr>\n",
              "    <tr>\n",
              "      <th>7784</th>\n",
              "      <td>documentaries, international movies, music &amp; m...</td>\n",
              "      <td>in this documentary, south african rapper nast...</td>\n",
              "      <td>1</td>\n",
              "      <td>0</td>\n",
              "    </tr>\n",
              "    <tr>\n",
              "      <th>7785</th>\n",
              "      <td>international tv shows, reality tv</td>\n",
              "      <td>dessert wizard adriano zumbo looks for the nex...</td>\n",
              "      <td>0</td>\n",
              "      <td>1</td>\n",
              "    </tr>\n",
              "    <tr>\n",
              "      <th>7786</th>\n",
              "      <td>documentaries, music &amp; musicals</td>\n",
              "      <td>this documentary delves into the mystique behi...</td>\n",
              "      <td>1</td>\n",
              "      <td>0</td>\n",
              "    </tr>\n",
              "  </tbody>\n",
              "</table>\n",
              "<p>7787 rows × 4 columns</p>\n",
              "</div>"
            ],
            "text/plain": [
              "                                              listed_in  ... tv show\n",
              "0     international tv shows, tv dramas, tv sci-fi &...  ...       1\n",
              "1                          dramas, international movies  ...       0\n",
              "2                   horror movies, international movies  ...       0\n",
              "3     action & adventure, independent movies, sci-fi...  ...       0\n",
              "4                                                dramas  ...       0\n",
              "...                                                 ...  ...     ...\n",
              "7782                       dramas, international movies  ...       0\n",
              "7783     dramas, international movies, music & musicals  ...       0\n",
              "7784  documentaries, international movies, music & m...  ...       0\n",
              "7785                 international tv shows, reality tv  ...       1\n",
              "7786                    documentaries, music & musicals  ...       0\n",
              "\n",
              "[7787 rows x 4 columns]"
            ]
          },
          "metadata": {
            "tags": []
          },
          "execution_count": 5
        }
      ]
    },
    {
      "cell_type": "code",
      "metadata": {
        "id": "QM2cNmKxoDWd"
      },
      "source": [
        "description = df_baru['description'].values + '' + df_baru['listed_in'].values\n",
        "label = df_baru[['movie', 'tv show']].values"
      ],
      "execution_count": null,
      "outputs": []
    },
    {
      "cell_type": "code",
      "metadata": {
        "id": "i8TCCUT_oJyv"
      },
      "source": [
        "from sklearn.model_selection import train_test_split\n",
        "description_latih, description_test, label_latih, label_test = train_test_split(description, label, test_size=0.2)"
      ],
      "execution_count": null,
      "outputs": []
    },
    {
      "cell_type": "code",
      "metadata": {
        "id": "nBF94HiWoNQE"
      },
      "source": [
        "from tensorflow.keras.preprocessing.text import Tokenizer\n",
        "from tensorflow.keras.preprocessing.sequence import pad_sequences\n",
        "\n",
        "tokenizer = Tokenizer(num_words=5000, oov_token='x')\n",
        "tokenizer.fit_on_texts(description_latih)\n",
        "tokenizer.fit_on_texts(description_test)\n",
        "\n",
        "sekuens_latih = tokenizer.texts_to_sequences(description_latih)\n",
        "sekuens_test = tokenizer.texts_to_sequences(description_test)\n",
        "\n",
        "padded_latih = pad_sequences(sekuens_latih)\n",
        "padded_test = pad_sequences(sekuens_test)"
      ],
      "execution_count": null,
      "outputs": []
    },
    {
      "cell_type": "code",
      "metadata": {
        "id": "gCKyxUjRoQDo"
      },
      "source": [
        "from tensorflow.python.keras.backend import dropout\n",
        "import tensorflow as tf\n",
        "model = tf.keras.Sequential([\n",
        "    tf.keras.layers.Embedding(input_dim=5000, output_dim=16),\n",
        "    tf.keras.layers.LSTM(128),\n",
        "    tf.keras.layers.Dense(128, activation='relu'),\n",
        "    tf.keras.layers.Dropout(0.5),\n",
        "    tf.keras.layers.Dense(64, activation='relu'),\n",
        "    tf.keras.layers.Dropout(0.2),\n",
        "    tf.keras.layers.Dense(2, activation='sigmoid')\n",
        "])\n",
        "model.compile(loss='binary_crossentropy',optimizer='adam',metrics=['accuracy'])"
      ],
      "execution_count": null,
      "outputs": []
    },
    {
      "cell_type": "code",
      "metadata": {
        "id": "4lz7x8syq7gF"
      },
      "source": [
        "#class myCallback(tf.keras.callbacks.Callback):\n",
        "  #def on_epoch_end(self, epoch, logs={}):\n",
        "    #if(logs.get('accuracy')>0.9 and logs.get('val_accuracy')) :\n",
        "      #print(\"\\nAkurasi dan Val Akurasi telah mencapai >90%!\")\n",
        "      #self.model.stop_training = True\n",
        "#callbacks = myCallback()"
      ],
      "execution_count": null,
      "outputs": []
    },
    {
      "cell_type": "code",
      "metadata": {
        "colab": {
          "base_uri": "https://localhost:8080/"
        },
        "id": "1bEu51dToS6q",
        "outputId": "26412b75-0b31-4618-dc5c-0163c964f524"
      },
      "source": [
        "#history = model.fit(padded_latih, label_latih, epochs=50,\n",
        "                    #validation_data=(padded_test, label_test), verbose=2) #callbacks=[callbacks], validation_steps=30)\n",
        "num_epochs = 30\n",
        "history = model.fit(padded_latih, label_latih, epochs=num_epochs,\n",
        "                    validation_data=(padded_test, label_test), verbose=2)\n",
        "#num_epochs = 30\n",
        "#history = model.fit(padded_latih, label_latih, epochs=num_epochs,\n",
        "                    #validation_data=(padded_test, label_test), verbose=2]#, callbacks=[callbacks])"
      ],
      "execution_count": null,
      "outputs": [
        {
          "output_type": "stream",
          "text": [
            "Epoch 1/30\n",
            "195/195 - 23s - loss: 0.1758 - accuracy: 0.9209 - val_loss: 0.0085 - val_accuracy: 0.9968\n",
            "Epoch 2/30\n",
            "195/195 - 10s - loss: 0.0020 - accuracy: 0.9998 - val_loss: 0.0025 - val_accuracy: 0.9994\n",
            "Epoch 3/30\n",
            "195/195 - 11s - loss: 0.0017 - accuracy: 0.9998 - val_loss: 0.0026 - val_accuracy: 0.9987\n",
            "Epoch 4/30\n",
            "195/195 - 10s - loss: 0.0010 - accuracy: 0.9998 - val_loss: 0.0034 - val_accuracy: 0.9987\n",
            "Epoch 5/30\n",
            "195/195 - 10s - loss: 1.1469e-04 - accuracy: 1.0000 - val_loss: 0.0035 - val_accuracy: 0.9987\n",
            "Epoch 6/30\n",
            "195/195 - 10s - loss: 3.5929e-05 - accuracy: 1.0000 - val_loss: 0.0044 - val_accuracy: 0.9987\n",
            "Epoch 7/30\n",
            "195/195 - 10s - loss: 2.6006e-05 - accuracy: 1.0000 - val_loss: 0.0059 - val_accuracy: 0.9987\n",
            "Epoch 8/30\n",
            "195/195 - 11s - loss: 1.2254e-05 - accuracy: 1.0000 - val_loss: 0.0058 - val_accuracy: 0.9987\n",
            "Epoch 9/30\n",
            "195/195 - 12s - loss: 8.0544e-06 - accuracy: 1.0000 - val_loss: 0.0067 - val_accuracy: 0.9987\n",
            "Epoch 10/30\n",
            "195/195 - 11s - loss: 8.1094e-06 - accuracy: 1.0000 - val_loss: 0.0066 - val_accuracy: 0.9987\n",
            "Epoch 11/30\n",
            "195/195 - 10s - loss: 7.1389e-06 - accuracy: 1.0000 - val_loss: 0.0077 - val_accuracy: 0.9987\n",
            "Epoch 12/30\n",
            "195/195 - 10s - loss: 1.0123e-05 - accuracy: 1.0000 - val_loss: 0.0088 - val_accuracy: 0.9987\n",
            "Epoch 13/30\n",
            "195/195 - 10s - loss: 2.7711e-06 - accuracy: 1.0000 - val_loss: 0.0096 - val_accuracy: 0.9981\n",
            "Epoch 14/30\n",
            "195/195 - 10s - loss: 4.9874e-06 - accuracy: 1.0000 - val_loss: 0.0102 - val_accuracy: 0.9981\n",
            "Epoch 15/30\n",
            "195/195 - 10s - loss: 3.2954e-06 - accuracy: 1.0000 - val_loss: 0.0113 - val_accuracy: 0.9974\n",
            "Epoch 16/30\n",
            "195/195 - 10s - loss: 1.1842e-06 - accuracy: 1.0000 - val_loss: 0.0110 - val_accuracy: 0.9974\n",
            "Epoch 17/30\n",
            "195/195 - 10s - loss: 1.9635e-06 - accuracy: 1.0000 - val_loss: 0.0117 - val_accuracy: 0.9974\n",
            "Epoch 18/30\n",
            "195/195 - 10s - loss: 7.9107e-07 - accuracy: 1.0000 - val_loss: 0.0118 - val_accuracy: 0.9974\n",
            "Epoch 19/30\n",
            "195/195 - 10s - loss: 1.8512e-06 - accuracy: 1.0000 - val_loss: 0.0135 - val_accuracy: 0.9974\n",
            "Epoch 20/30\n",
            "195/195 - 10s - loss: 1.1645e-06 - accuracy: 1.0000 - val_loss: 0.0144 - val_accuracy: 0.9974\n",
            "Epoch 21/30\n",
            "195/195 - 10s - loss: 5.5922e-07 - accuracy: 1.0000 - val_loss: 0.0139 - val_accuracy: 0.9974\n",
            "Epoch 22/30\n",
            "195/195 - 10s - loss: 5.3673e-07 - accuracy: 1.0000 - val_loss: 0.0138 - val_accuracy: 0.9974\n",
            "Epoch 23/30\n",
            "195/195 - 11s - loss: 8.0867e-07 - accuracy: 1.0000 - val_loss: 0.0135 - val_accuracy: 0.9974\n",
            "Epoch 24/30\n",
            "195/195 - 11s - loss: 7.3846e-07 - accuracy: 1.0000 - val_loss: 0.0142 - val_accuracy: 0.9974\n",
            "Epoch 25/30\n",
            "195/195 - 11s - loss: 5.0955e-07 - accuracy: 1.0000 - val_loss: 0.0134 - val_accuracy: 0.9974\n",
            "Epoch 26/30\n",
            "195/195 - 10s - loss: 2.5916e-07 - accuracy: 1.0000 - val_loss: 0.0139 - val_accuracy: 0.9968\n",
            "Epoch 27/30\n",
            "195/195 - 10s - loss: 1.9620e-07 - accuracy: 1.0000 - val_loss: 0.0138 - val_accuracy: 0.9974\n",
            "Epoch 28/30\n",
            "195/195 - 10s - loss: 2.2816e-07 - accuracy: 1.0000 - val_loss: 0.0135 - val_accuracy: 0.9974\n",
            "Epoch 29/30\n",
            "195/195 - 10s - loss: 3.7156e-07 - accuracy: 1.0000 - val_loss: 0.0145 - val_accuracy: 0.9974\n",
            "Epoch 30/30\n",
            "195/195 - 11s - loss: 1.8180e-07 - accuracy: 1.0000 - val_loss: 0.0150 - val_accuracy: 0.9974\n"
          ],
          "name": "stdout"
        }
      ]
    }
  ]
}